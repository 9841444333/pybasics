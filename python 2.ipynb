{
 "cells": [
  {
   "cell_type": "markdown",
   "metadata": {},
   "source": [
    "problem Determine Frequency of words for the given paragraph"
   ]
  },
  {
   "cell_type": "markdown",
   "metadata": {},
   "source": [
    "uses:"
   ]
  },
  {
   "cell_type": "code",
   "execution_count": 7,
   "metadata": {
    "collapsed": false
   },
   "outputs": [],
   "source": [
    "paragraph = \"\"\"I knew that seclusion and solitude were very necessary for my\n",
    "friend in those hours of intense mental concentration during\n",
    "which he weighed every particle of evidence, constructed\n",
    "alternative theories, balanced one against the other, and made up\n",
    "his mind as to which points were essential and which immaterial.\n",
    "I therefore spent the day at my club and did not return to Baker\n",
    "Street until evening. It was nearly nine o'clock when I found\n",
    "myself in the sitting-room once more.\"\"\"\n"
   ]
  },
  {
   "cell_type": "code",
   "execution_count": 9,
   "metadata": {
    "collapsed": false
   },
   "outputs": [],
   "source": [
    "words = paragraph.split()"
   ]
  },
  {
   "cell_type": "code",
   "execution_count": 10,
   "metadata": {
    "collapsed": false
   },
   "outputs": [
    {
     "data": {
      "text/plain": [
       "['I',\n",
       " 'knew',\n",
       " 'that',\n",
       " 'seclusion',\n",
       " 'and',\n",
       " 'solitude',\n",
       " 'were',\n",
       " 'very',\n",
       " 'necessary',\n",
       " 'for',\n",
       " 'my',\n",
       " 'friend',\n",
       " 'in',\n",
       " 'those',\n",
       " 'hours',\n",
       " 'of',\n",
       " 'intense',\n",
       " 'mental',\n",
       " 'concentration',\n",
       " 'during',\n",
       " 'which',\n",
       " 'he',\n",
       " 'weighed',\n",
       " 'every',\n",
       " 'particle',\n",
       " 'of',\n",
       " 'evidence,',\n",
       " 'constructed',\n",
       " 'alternative',\n",
       " 'theories,',\n",
       " 'balanced',\n",
       " 'one',\n",
       " 'against',\n",
       " 'the',\n",
       " 'other,',\n",
       " 'and',\n",
       " 'made',\n",
       " 'up',\n",
       " 'his',\n",
       " 'mind',\n",
       " 'as',\n",
       " 'to',\n",
       " 'which',\n",
       " 'points',\n",
       " 'were',\n",
       " 'essential',\n",
       " 'and',\n",
       " 'which',\n",
       " 'immaterial.',\n",
       " 'I',\n",
       " 'therefore',\n",
       " 'spent',\n",
       " 'the',\n",
       " 'day',\n",
       " 'at',\n",
       " 'my',\n",
       " 'club',\n",
       " 'and',\n",
       " 'did',\n",
       " 'not',\n",
       " 'return',\n",
       " 'to',\n",
       " 'Baker',\n",
       " 'Street',\n",
       " 'until',\n",
       " 'evening.',\n",
       " 'It',\n",
       " 'was',\n",
       " 'nearly',\n",
       " 'nine',\n",
       " \"o'clock\",\n",
       " 'when',\n",
       " 'I',\n",
       " 'found',\n",
       " 'myself',\n",
       " 'in',\n",
       " 'the',\n",
       " 'sitting-room',\n",
       " 'once',\n",
       " 'more.']"
      ]
     },
     "execution_count": 10,
     "metadata": {},
     "output_type": "execute_result"
    }
   ],
   "source": [
    "words"
   ]
  },
  {
   "cell_type": "code",
   "execution_count": 16,
   "metadata": {
    "collapsed": false
   },
   "outputs": [
    {
     "name": "stdout",
     "output_type": "stream",
     "text": [
      "0 I\n",
      "Number of words 80\n",
      "1 knew\n",
      "Number of words 80\n",
      "2 that\n",
      "Number of words 80\n",
      "3 seclusion\n",
      "Number of words 80\n",
      "4 and\n",
      "Number of words 80\n",
      "5 solitude\n",
      "Number of words 80\n",
      "6 were\n",
      "Number of words 80\n",
      "7 very\n",
      "Number of words 80\n",
      "8 necessary\n",
      "Number of words 80\n",
      "9 for\n",
      "Number of words 80\n",
      "10 my\n",
      "Number of words 80\n",
      "11 friend\n",
      "Number of words 80\n",
      "12 in\n",
      "Number of words 80\n",
      "13 those\n",
      "Number of words 80\n",
      "14 hours\n",
      "Number of words 80\n",
      "15 of\n",
      "Number of words 80\n",
      "16 intense\n",
      "Number of words 80\n",
      "17 mental\n",
      "Number of words 80\n",
      "18 concentration\n",
      "Number of words 80\n",
      "19 during\n",
      "Number of words 80\n",
      "20 which\n",
      "Number of words 80\n",
      "21 he\n",
      "Number of words 80\n",
      "22 weighed\n",
      "Number of words 80\n",
      "23 every\n",
      "Number of words 80\n",
      "24 particle\n",
      "Number of words 80\n",
      "25 of\n",
      "Number of words 80\n",
      "26 evidence,\n",
      "Number of words 80\n",
      "27 constructed\n",
      "Number of words 80\n",
      "28 alternative\n",
      "Number of words 80\n",
      "29 theories,\n",
      "Number of words 80\n",
      "30 balanced\n",
      "Number of words 80\n",
      "31 one\n",
      "Number of words 80\n",
      "32 against\n",
      "Number of words 80\n",
      "33 the\n",
      "Number of words 80\n",
      "34 other,\n",
      "Number of words 80\n",
      "35 and\n",
      "Number of words 80\n",
      "36 made\n",
      "Number of words 80\n",
      "37 up\n",
      "Number of words 80\n",
      "38 his\n",
      "Number of words 80\n",
      "39 mind\n",
      "Number of words 80\n",
      "40 as\n",
      "Number of words 80\n",
      "41 to\n",
      "Number of words 80\n",
      "42 which\n",
      "Number of words 80\n",
      "43 points\n",
      "Number of words 80\n",
      "44 were\n",
      "Number of words 80\n",
      "45 essential\n",
      "Number of words 80\n",
      "46 and\n",
      "Number of words 80\n",
      "47 which\n",
      "Number of words 80\n",
      "48 immaterial.\n",
      "Number of words 80\n",
      "49 I\n",
      "Number of words 80\n",
      "50 therefore\n",
      "Number of words 80\n",
      "51 spent\n",
      "Number of words 80\n",
      "52 the\n",
      "Number of words 80\n",
      "53 day\n",
      "Number of words 80\n",
      "54 at\n",
      "Number of words 80\n",
      "55 my\n",
      "Number of words 80\n",
      "56 club\n",
      "Number of words 80\n",
      "57 and\n",
      "Number of words 80\n",
      "58 did\n",
      "Number of words 80\n",
      "59 not\n",
      "Number of words 80\n",
      "60 return\n",
      "Number of words 80\n",
      "61 to\n",
      "Number of words 80\n",
      "62 Baker\n",
      "Number of words 80\n",
      "63 Street\n",
      "Number of words 80\n",
      "64 until\n",
      "Number of words 80\n",
      "65 evening.\n",
      "Number of words 80\n",
      "66 It\n",
      "Number of words 80\n",
      "67 was\n",
      "Number of words 80\n",
      "68 nearly\n",
      "Number of words 80\n",
      "69 nine\n",
      "Number of words 80\n",
      "70 o'clock\n",
      "Number of words 80\n",
      "71 when\n",
      "Number of words 80\n",
      "72 I\n",
      "Number of words 80\n",
      "73 found\n",
      "Number of words 80\n",
      "74 myself\n",
      "Number of words 80\n",
      "75 in\n",
      "Number of words 80\n",
      "76 the\n",
      "Number of words 80\n",
      "77 sitting-room\n",
      "Number of words 80\n",
      "78 once\n",
      "Number of words 80\n",
      "79 more.\n",
      "Number of words 80\n"
     ]
    }
   ],
   "source": [
    "index = 0\n",
    "while index < len(words):\n",
    "    print(index, words[index])\n",
    "    index += 1\n",
    "    print('Number of words', len(words))"
   ]
  },
  {
   "cell_type": "code",
   "execution_count": 24,
   "metadata": {
    "collapsed": false
   },
   "outputs": [
    {
     "data": {
      "text/plain": [
       "{'harry': 67, 99: 78}"
      ]
     },
     "execution_count": 24,
     "metadata": {},
     "output_type": "execute_result"
    }
   ],
   "source": [
    "freq ={}\n",
    "freq['harry'] = 67\n",
    "freq[99] = 78\n",
    "freq"
   ]
  },
  {
   "cell_type": "code",
   "execution_count": 25,
   "metadata": {
    "collapsed": true
   },
   "outputs": [],
   "source": [
    "names =['Harry', 'Ron', 'Hermain']"
   ]
  },
  {
   "cell_type": "code",
   "execution_count": 27,
   "metadata": {
    "collapsed": false
   },
   "outputs": [],
   "source": [
    "names[0] = 'Neville'"
   ]
  },
  {
   "cell_type": "code",
   "execution_count": 28,
   "metadata": {
    "collapsed": false
   },
   "outputs": [
    {
     "data": {
      "text/plain": [
       "['Neville', 'Ron', 'Hermain']"
      ]
     },
     "execution_count": 28,
     "metadata": {},
     "output_type": "execute_result"
    }
   ],
   "source": [
    "names"
   ]
  },
  {
   "cell_type": "code",
   "execution_count": 41,
   "metadata": {
    "collapsed": false
   },
   "outputs": [],
   "source": [
    "name = 'Ron'"
   ]
  },
  {
   "cell_type": "code",
   "execution_count": 42,
   "metadata": {
    "collapsed": false
   },
   "outputs": [
    {
     "data": {
      "text/plain": [
       "'R'"
      ]
     },
     "execution_count": 42,
     "metadata": {},
     "output_type": "execute_result"
    }
   ],
   "source": [
    "name[0]"
   ]
  },
  {
   "cell_type": "code",
   "execution_count": 31,
   "metadata": {
    "collapsed": false
   },
   "outputs": [
    {
     "data": {
      "text/plain": [
       "['Neville', 'Ron', 'Hermain']"
      ]
     },
     "execution_count": 31,
     "metadata": {},
     "output_type": "execute_result"
    }
   ],
   "source": [
    "names"
   ]
  },
  {
   "cell_type": "code",
   "execution_count": 32,
   "metadata": {
    "collapsed": false
   },
   "outputs": [
    {
     "data": {
      "text/plain": [
       "'Ron'"
      ]
     },
     "execution_count": 32,
     "metadata": {},
     "output_type": "execute_result"
    }
   ],
   "source": [
    "names[1]"
   ]
  },
  {
   "cell_type": "code",
   "execution_count": 33,
   "metadata": {
    "collapsed": false
   },
   "outputs": [
    {
     "name": "stdout",
     "output_type": "stream",
     "text": [
      "{'i': 0, 'knew': 0, 'that': 0, 'seclusion': 0, 'and': 0, 'solitude': 0, 'were': 0, 'very': 0, 'necessary': 0, 'for': 0, 'my': 0, 'friend': 0, 'in': 0, 'those': 0, 'hours': 0, 'of': 0, 'intense': 0, 'mental': 0, 'concentration': 0, 'during': 0, 'which': 0, 'he': 0, 'weighed': 0, 'every': 0, 'particle': 0, 'evidence,': 0, 'constructed': 0, 'alternative': 0, 'theories,': 0, 'balanced': 0, 'one': 0, 'against': 0, 'the': 0, 'other,': 0, 'made': 0, 'up': 0, 'his': 0, 'mind': 0, 'as': 0, 'to': 0, 'points': 0, 'essential': 0, 'immaterial.': 0, 'therefore': 0, 'spent': 0, 'day': 0, 'at': 0, 'club': 0, 'did': 0, 'not': 0, 'return': 0, 'baker': 0, 'street': 0, 'until': 0, 'evening.': 0, 'it': 0, 'was': 0, 'nearly': 0, 'nine': 0, \"o'clock\": 0, 'when': 0, 'found': 0, 'myself': 0, 'sitting-room': 0, 'once': 0, 'more.': 0}\n"
     ]
    }
   ],
   "source": [
    "freq = {} \n",
    "index = 0\n",
    "while index < len(words):\n",
    "    word = words[index].lower()\n",
    "#    print(word)\n",
    "    freq[word] = 0\n",
    "    index += 1\n",
    "print(freq)"
   ]
  },
  {
   "cell_type": "code",
   "execution_count": 34,
   "metadata": {
    "collapsed": true
   },
   "outputs": [],
   "source": [
    "a = 6"
   ]
  },
  {
   "cell_type": "code",
   "execution_count": 35,
   "metadata": {
    "collapsed": false
   },
   "outputs": [
    {
     "data": {
      "text/plain": [
       "6"
      ]
     },
     "execution_count": 35,
     "metadata": {},
     "output_type": "execute_result"
    }
   ],
   "source": [
    "a"
   ]
  },
  {
   "cell_type": "code",
   "execution_count": 36,
   "metadata": {
    "collapsed": false
   },
   "outputs": [
    {
     "data": {
      "text/plain": [
       "5"
      ]
     },
     "execution_count": 36,
     "metadata": {},
     "output_type": "execute_result"
    }
   ],
   "source": [
    "a = 5\n",
    "a"
   ]
  },
  {
   "cell_type": "code",
   "execution_count": 37,
   "metadata": {
    "collapsed": true
   },
   "outputs": [],
   "source": [
    "freq = { 'Harry': 5 }"
   ]
  },
  {
   "cell_type": "code",
   "execution_count": 38,
   "metadata": {
    "collapsed": false
   },
   "outputs": [
    {
     "data": {
      "text/plain": [
       "5"
      ]
     },
     "execution_count": 38,
     "metadata": {},
     "output_type": "execute_result"
    }
   ],
   "source": [
    "freq['Harry']"
   ]
  },
  {
   "cell_type": "code",
   "execution_count": 39,
   "metadata": {
    "collapsed": false
   },
   "outputs": [
    {
     "ename": "KeyError",
     "evalue": "0",
     "output_type": "error",
     "traceback": [
      "\u001b[0;31m---------------------------------------------------------------------------\u001b[0m",
      "\u001b[0;31mKeyError\u001b[0m                                  Traceback (most recent call last)",
      "\u001b[0;32m<ipython-input-39-533c3296910f>\u001b[0m in \u001b[0;36m<module>\u001b[0;34m()\u001b[0m\n\u001b[0;32m----> 1\u001b[0;31m \u001b[0mfreq\u001b[0m\u001b[1;33m[\u001b[0m\u001b[1;36m0\u001b[0m\u001b[1;33m]\u001b[0m\u001b[1;33m\u001b[0m\u001b[0m\n\u001b[0m",
      "\u001b[0;31mKeyError\u001b[0m: 0"
     ]
    }
   ],
   "source": [
    "freq[0]"
   ]
  },
  {
   "cell_type": "code",
   "execution_count": 43,
   "metadata": {
    "collapsed": false
   },
   "outputs": [
    {
     "ename": "KeyError",
     "evalue": "1",
     "output_type": "error",
     "traceback": [
      "\u001b[0;31m---------------------------------------------------------------------------\u001b[0m",
      "\u001b[0;31mKeyError\u001b[0m                                  Traceback (most recent call last)",
      "\u001b[0;32m<ipython-input-43-02e7b9ad5047>\u001b[0m in \u001b[0;36m<module>\u001b[0;34m()\u001b[0m\n\u001b[0;32m----> 1\u001b[0;31m \u001b[0mfreq\u001b[0m\u001b[1;33m[\u001b[0m\u001b[1;36m1\u001b[0m\u001b[1;33m]\u001b[0m\u001b[1;33m\u001b[0m\u001b[0m\n\u001b[0m",
      "\u001b[0;31mKeyError\u001b[0m: 1"
     ]
    }
   ],
   "source": [
    "freq[1]"
   ]
  },
  {
   "cell_type": "code",
   "execution_count": 44,
   "metadata": {
    "collapsed": true
   },
   "outputs": [],
   "source": [
    "freq[0] = 99"
   ]
  },
  {
   "cell_type": "code",
   "execution_count": 45,
   "metadata": {
    "collapsed": false
   },
   "outputs": [
    {
     "data": {
      "text/plain": [
       "99"
      ]
     },
     "execution_count": 45,
     "metadata": {},
     "output_type": "execute_result"
    }
   ],
   "source": [
    "freq[0]"
   ]
  },
  {
   "cell_type": "code",
   "execution_count": 46,
   "metadata": {
    "collapsed": false
   },
   "outputs": [
    {
     "data": {
      "text/plain": [
       "{'Harry': 5, 0: 99}"
      ]
     },
     "execution_count": 46,
     "metadata": {},
     "output_type": "execute_result"
    }
   ],
   "source": [
    "freq"
   ]
  },
  {
   "cell_type": "code",
   "execution_count": 49,
   "metadata": {
    "collapsed": false
   },
   "outputs": [
    {
     "name": "stdout",
     "output_type": "stream",
     "text": [
      "{'i': 0, 'knew': 0, 'that': 0, 'seclusion': 0, 'and': 0, 'solitude': 0, 'were': 0, 'very': 0, 'necessary': 0, 'for': 0, 'my': 0, 'friend': 0, 'in': 0, 'those': 0, 'hours': 0, 'of': 0, 'intense': 0, 'mental': 0, 'concentration': 0, 'during': 0, 'which': 0, 'he': 0, 'weighed': 0, 'every': 0, 'particle': 0, 'evidence': 0, 'constructed': 0, 'alternative': 0, 'theories': 0, 'balanced': 0, 'one': 0, 'against': 0, 'the': 0, 'other': 0, 'made': 0, 'up': 0, 'his': 0, 'mind': 0, 'as': 0, 'to': 0, 'points': 0, 'essential': 0, 'immaterial': 0, 'therefore': 0, 'spent': 0, 'day': 0, 'at': 0, 'club': 0, 'did': 0, 'not': 0, 'return': 0, 'baker': 0, 'street': 0, 'until': 0, 'evening': 0, 'it': 0, 'was': 0, 'nearly': 0, 'nine': 0, \"o'clock\": 0, 'when': 0, 'found': 0, 'myself': 0, 'sitting-room': 0, 'once': 0, 'more': 0}\n"
     ]
    }
   ],
   "source": [
    "freq = {}\n",
    "index = 0\n",
    "while index < len(words):\n",
    "    word = words[index].strip('.').strip(',').lower()\n",
    "    #word = words[index]\n",
    "    #word = word.strip('.')\n",
    "    #word = word.strip(',')\n",
    "    #word = word.lower()\n",
    "    freq[word] = 0\n",
    "    index += 1\n",
    "print(freq)\n",
    "    \n"
   ]
  },
  {
   "cell_type": "code",
   "execution_count": 50,
   "metadata": {
    "collapsed": false
   },
   "outputs": [
    {
     "ename": "KeyboardInterrupt",
     "evalue": "",
     "output_type": "error",
     "traceback": [
      "\u001b[0;31m---------------------------------------------------------------------------\u001b[0m",
      "\u001b[0;31mKeyboardInterrupt\u001b[0m                         Traceback (most recent call last)",
      "\u001b[0;32m<ipython-input-50-e62768178d24>\u001b[0m in \u001b[0;36m<module>\u001b[0;34m()\u001b[0m\n\u001b[1;32m      2\u001b[0m \u001b[0mindex\u001b[0m \u001b[1;33m=\u001b[0m \u001b[1;36m0\u001b[0m\u001b[1;33m\u001b[0m\u001b[0m\n\u001b[1;32m      3\u001b[0m \u001b[1;32mwhile\u001b[0m \u001b[0mindex\u001b[0m \u001b[1;33m<\u001b[0m \u001b[0mlen\u001b[0m\u001b[1;33m(\u001b[0m\u001b[0mwords\u001b[0m\u001b[1;33m)\u001b[0m\u001b[1;33m:\u001b[0m\u001b[1;33m\u001b[0m\u001b[0m\n\u001b[0;32m----> 4\u001b[0;31m     \u001b[0mword\u001b[0m \u001b[1;33m=\u001b[0m \u001b[0mwords\u001b[0m\u001b[1;33m[\u001b[0m\u001b[0mindex\u001b[0m\u001b[1;33m]\u001b[0m\u001b[1;33m.\u001b[0m\u001b[0mstrip\u001b[0m\u001b[1;33m(\u001b[0m\u001b[1;34m'.'\u001b[0m\u001b[1;33m)\u001b[0m\u001b[1;33m.\u001b[0m\u001b[0mstrip\u001b[0m\u001b[1;33m(\u001b[0m\u001b[1;34m','\u001b[0m\u001b[1;33m)\u001b[0m\u001b[1;33m.\u001b[0m\u001b[0mlower\u001b[0m\u001b[1;33m(\u001b[0m\u001b[1;33m)\u001b[0m\u001b[1;33m\u001b[0m\u001b[0m\n\u001b[0m\u001b[1;32m      5\u001b[0m \u001b[1;33m\u001b[0m\u001b[0m\n",
      "\u001b[0;31mKeyboardInterrupt\u001b[0m: "
     ]
    }
   ],
   "source": [
    "freq = {}\n",
    "index = 0\n",
    "while index < len(words):\n",
    "    word = words[index].strip('.').strip(',').lower()\n",
    "    "
   ]
  },
  {
   "cell_type": "code",
   "execution_count": null,
   "metadata": {
    "collapsed": true
   },
   "outputs": [],
   "source": [
    "nfreq = {'A' : 6, 'B' : 8}"
   ]
  },
  {
   "cell_type": "code",
   "execution_count": null,
   "metadata": {
    "collapsed": true
   },
   "outputs": [],
   "source": [
    "nfreq['C']"
   ]
  },
  {
   "cell_type": "code",
   "execution_count": null,
   "metadata": {
    "collapsed": true
   },
   "outputs": [],
   "source": [
    "'B' in nfreq"
   ]
  },
  {
   "cell_type": "code",
   "execution_count": 51,
   "metadata": {
    "collapsed": false
   },
   "outputs": [
    {
     "name": "stdout",
     "output_type": "stream",
     "text": [
      "{'i': 3, 'knew': 1, 'that': 1, 'seclusion': 1, 'and': 4, 'solitude': 1, 'were': 2, 'very': 1, 'necessary': 1, 'for': 1, 'my': 2, 'friend': 1, 'in': 2, 'those': 1, 'hours': 1, 'of': 2, 'intense': 1, 'mental': 1, 'concentration': 1, 'during': 1, 'which': 3, 'he': 1, 'weighed': 1, 'every': 1, 'particle': 1, 'evidence': 1, 'constructed': 1, 'alternative': 1, 'theories': 1, 'balanced': 1, 'one': 1, 'against': 1, 'the': 3, 'other': 1, 'made': 1, 'up': 1, 'his': 1, 'mind': 1, 'as': 1, 'to': 2, 'points': 1, 'essential': 1, 'immaterial': 1, 'therefore': 1, 'spent': 1, 'day': 1, 'at': 1, 'club': 1, 'did': 1, 'not': 1, 'return': 1, 'baker': 1, 'street': 1, 'until': 1, 'evening': 1, 'it': 1, 'was': 1, 'nearly': 1, 'nine': 1, \"o'clock\": 1, 'when': 1, 'found': 1, 'myself': 1, 'sitting-room': 1, 'once': 1, 'more': 1}\n"
     ]
    }
   ],
   "source": [
    "freq = {}\n",
    "index = 0\n",
    "while index < len(words):\n",
    "    word = words[index].strip('.').strip(',').lower()\n",
    "    if word in freq:\n",
    "        freq[word] += 1\n",
    "    else:\n",
    "        freq[word] = 1\n",
    "    index += 1\n",
    "print(freq)"
   ]
  },
  {
   "cell_type": "code",
   "execution_count": 52,
   "metadata": {
    "collapsed": false
   },
   "outputs": [
    {
     "name": "stdout",
     "output_type": "stream",
     "text": [
      "i\n",
      "knew\n",
      "that\n",
      "seclusion\n",
      "and\n",
      "solitude\n",
      "were\n",
      "very\n",
      "necessary\n",
      "for\n",
      "my\n",
      "friend\n",
      "in\n",
      "those\n",
      "hours\n",
      "of\n",
      "intense\n",
      "mental\n",
      "concentration\n",
      "during\n",
      "which\n",
      "he\n",
      "weighed\n",
      "every\n",
      "particle\n",
      "evidence\n",
      "constructed\n",
      "alternative\n",
      "theories\n",
      "balanced\n",
      "one\n",
      "against\n",
      "the\n",
      "other\n",
      "made\n",
      "up\n",
      "his\n",
      "mind\n",
      "as\n",
      "to\n",
      "points\n",
      "essential\n",
      "immaterial\n",
      "therefore\n",
      "spent\n",
      "day\n",
      "at\n",
      "club\n",
      "did\n",
      "not\n",
      "return\n",
      "baker\n",
      "street\n",
      "until\n",
      "evening\n",
      "it\n",
      "was\n",
      "nearly\n",
      "nine\n",
      "o'clock\n",
      "when\n",
      "found\n",
      "myself\n",
      "sitting-room\n",
      "once\n",
      "more\n"
     ]
    }
   ],
   "source": [
    "for item in freq:\n",
    "    print(item)"
   ]
  },
  {
   "cell_type": "code",
   "execution_count": 54,
   "metadata": {
    "collapsed": false
   },
   "outputs": [
    {
     "name": "stdout",
     "output_type": "stream",
     "text": [
      "paragraph has 3 \"i\" \n",
      "paragraph has 1 \"knew\" \n",
      "paragraph has 1 \"that\" \n",
      "paragraph has 1 \"seclusion\" \n",
      "paragraph has 4 \"and\" \n",
      "paragraph has 1 \"solitude\" \n",
      "paragraph has 2 \"were\" \n",
      "paragraph has 1 \"very\" \n",
      "paragraph has 1 \"necessary\" \n",
      "paragraph has 1 \"for\" \n",
      "paragraph has 2 \"my\" \n",
      "paragraph has 1 \"friend\" \n",
      "paragraph has 2 \"in\" \n",
      "paragraph has 1 \"those\" \n",
      "paragraph has 1 \"hours\" \n",
      "paragraph has 2 \"of\" \n",
      "paragraph has 1 \"intense\" \n",
      "paragraph has 1 \"mental\" \n",
      "paragraph has 1 \"concentration\" \n",
      "paragraph has 1 \"during\" \n",
      "paragraph has 3 \"which\" \n",
      "paragraph has 1 \"he\" \n",
      "paragraph has 1 \"weighed\" \n",
      "paragraph has 1 \"every\" \n",
      "paragraph has 1 \"particle\" \n",
      "paragraph has 1 \"evidence\" \n",
      "paragraph has 1 \"constructed\" \n",
      "paragraph has 1 \"alternative\" \n",
      "paragraph has 1 \"theories\" \n",
      "paragraph has 1 \"balanced\" \n",
      "paragraph has 1 \"one\" \n",
      "paragraph has 1 \"against\" \n",
      "paragraph has 3 \"the\" \n",
      "paragraph has 1 \"other\" \n",
      "paragraph has 1 \"made\" \n",
      "paragraph has 1 \"up\" \n",
      "paragraph has 1 \"his\" \n",
      "paragraph has 1 \"mind\" \n",
      "paragraph has 1 \"as\" \n",
      "paragraph has 2 \"to\" \n",
      "paragraph has 1 \"points\" \n",
      "paragraph has 1 \"essential\" \n",
      "paragraph has 1 \"immaterial\" \n",
      "paragraph has 1 \"therefore\" \n",
      "paragraph has 1 \"spent\" \n",
      "paragraph has 1 \"day\" \n",
      "paragraph has 1 \"at\" \n",
      "paragraph has 1 \"club\" \n",
      "paragraph has 1 \"did\" \n",
      "paragraph has 1 \"not\" \n",
      "paragraph has 1 \"return\" \n",
      "paragraph has 1 \"baker\" \n",
      "paragraph has 1 \"street\" \n",
      "paragraph has 1 \"until\" \n",
      "paragraph has 1 \"evening\" \n",
      "paragraph has 1 \"it\" \n",
      "paragraph has 1 \"was\" \n",
      "paragraph has 1 \"nearly\" \n",
      "paragraph has 1 \"nine\" \n",
      "paragraph has 1 \"o'clock\" \n",
      "paragraph has 1 \"when\" \n",
      "paragraph has 1 \"found\" \n",
      "paragraph has 1 \"myself\" \n",
      "paragraph has 1 \"sitting-room\" \n",
      "paragraph has 1 \"once\" \n",
      "paragraph has 1 \"more\" \n"
     ]
    }
   ],
   "source": [
    "for item in freq:\n",
    "    print('paragraph has {} \"{}\" '.format(freq[item], item))"
   ]
  },
  {
   "cell_type": "code",
   "execution_count": null,
   "metadata": {
    "collapsed": true
   },
   "outputs": [],
   "source": []
  },
  {
   "cell_type": "code",
   "execution_count": null,
   "metadata": {
    "collapsed": true
   },
   "outputs": [],
   "source": []
  },
  {
   "cell_type": "code",
   "execution_count": null,
   "metadata": {
    "collapsed": true
   },
   "outputs": [],
   "source": []
  },
  {
   "cell_type": "code",
   "execution_count": null,
   "metadata": {
    "collapsed": true
   },
   "outputs": [],
   "source": []
  },
  {
   "cell_type": "code",
   "execution_count": null,
   "metadata": {
    "collapsed": true
   },
   "outputs": [],
   "source": []
  },
  {
   "cell_type": "code",
   "execution_count": null,
   "metadata": {
    "collapsed": true
   },
   "outputs": [],
   "source": []
  },
  {
   "cell_type": "code",
   "execution_count": null,
   "metadata": {
    "collapsed": true
   },
   "outputs": [],
   "source": []
  },
  {
   "cell_type": "code",
   "execution_count": null,
   "metadata": {
    "collapsed": true
   },
   "outputs": [],
   "source": []
  },
  {
   "cell_type": "code",
   "execution_count": null,
   "metadata": {
    "collapsed": true
   },
   "outputs": [],
   "source": []
  },
  {
   "cell_type": "code",
   "execution_count": null,
   "metadata": {
    "collapsed": true
   },
   "outputs": [],
   "source": []
  },
  {
   "cell_type": "code",
   "execution_count": null,
   "metadata": {
    "collapsed": true
   },
   "outputs": [],
   "source": []
  },
  {
   "cell_type": "code",
   "execution_count": null,
   "metadata": {
    "collapsed": true
   },
   "outputs": [],
   "source": []
  }
 ],
 "metadata": {
  "kernelspec": {
   "display_name": "Python 3",
   "language": "python",
   "name": "python3"
  },
  "language_info": {
   "codemirror_mode": {
    "name": "ipython",
    "version": 3
   },
   "file_extension": ".py",
   "mimetype": "text/x-python",
   "name": "python",
   "nbconvert_exporter": "python",
   "pygments_lexer": "ipython3",
   "version": "3.6.0"
  }
 },
 "nbformat": 4,
 "nbformat_minor": 2
}
